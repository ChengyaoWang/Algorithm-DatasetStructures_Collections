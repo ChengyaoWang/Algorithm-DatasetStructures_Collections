{
 "cells": [
  {
   "cell_type": "code",
   "execution_count": null,
   "metadata": {},
   "outputs": [],
   "source": [
    "import numpy as np\n",
    "from bspline import Bspline_FixedKnots\n",
    "from bspline import Bspline_DynamicKnots\n",
    "\n",
    "# import seaborn as sns\n",
    "import matplotlib.pyplot as plt"
   ]
  },
  {
   "cell_type": "code",
   "execution_count": null,
   "metadata": {},
   "outputs": [],
   "source": [
    "np.random.seed(seed = 42)\n",
    "\n",
    "def trueFuncdef(X: np.ndarray) -> np.ndarray:\n",
    "\n",
    "    Nt = X.shape\n",
    "\n",
    "    coef = np.random.random(size = (1, 4)) - 0.5\n",
    "    X = np.repeat(np.expand_dims(X, axis = 1), repeats = 4, axis = 1)\n",
    "    X = np.cumprod(X, axis = 1)\n",
    "\n",
    "    X = np.sum(X * coef, axis = 1)\n",
    "    X = X + np.random.random(size = (Nt)) * 0.1\n",
    "\n",
    "    return X\n",
    "\n",
    "X = np.random.random(size = (10000))\n",
    "y = trueFuncdef(X = X)"
   ]
  },
  {
   "cell_type": "code",
   "execution_count": null,
   "metadata": {},
   "outputs": [],
   "source": [
    "xt = np.linspace(0.2, 0.8, num = 7)\n",
    "bs1 = Bspline_FixedKnots(xt = xt, k = 1, extrapolate = True)\n",
    "bs1.fit(X = X, y = y)\n",
    "\n",
    "bs2 = Bspline_FixedKnots(xt = xt, k = 2, extrapolate = True)\n",
    "bs2.fit(X = X, y = y)\n",
    "\n",
    "bs_jnp = Bspline_DynamicKnots(knot_num = 7, k = 1, extrapolate = True)\n",
    "bs_jnp.fit(X = X, y = y)"
   ]
  },
  {
   "cell_type": "code",
   "execution_count": null,
   "metadata": {},
   "outputs": [],
   "source": [
    "print(\n",
    "    np.mean((y - bs1.predict(X = X)) * (y - bs1.predict(X = X)), axis = None),\n",
    "    np.mean((y - bs2.predict(X = X)) * (y - bs2.predict(X = X)), axis = None),\n",
    ")"
   ]
  },
  {
   "cell_type": "code",
   "execution_count": null,
   "metadata": {},
   "outputs": [],
   "source": [
    "X_infer = np.linspace(-0.1, 1.1, num = 1000)\n",
    "y_Infer_1 = bs1.predict(X = X_infer)\n",
    "y_Infer_2 = bs2.predict(X = X_infer)\n",
    "y_Infer_3 = bs_jnp.predict(X = X_infer)\n",
    "plt.figure(figsize = (10, 5), dpi = 400)\n",
    "\n",
    "plt.scatter(X, y, s = 0.01, label = 'true')\n",
    "plt.scatter(X_infer, y_Infer_1, s = 0.1, label = 'bs_1')\n",
    "plt.scatter(X_infer, y_Infer_2, s = 0.1, label = 'bs_2')\n",
    "plt.scatter(X_infer, y_Infer_3, s = 0.1, label = 'bs_3')\n",
    "\n",
    "plt.legend()\n",
    "plt.grid()\n",
    "plt.show()"
   ]
  },
  {
   "cell_type": "code",
   "execution_count": null,
   "metadata": {},
   "outputs": [],
   "source": []
  }
 ],
 "metadata": {
  "kernelspec": {
   "display_name": "myenv",
   "language": "python",
   "name": "python3"
  },
  "language_info": {
   "codemirror_mode": {
    "name": "ipython",
    "version": 3
   },
   "file_extension": ".py",
   "mimetype": "text/x-python",
   "name": "python",
   "nbconvert_exporter": "python",
   "pygments_lexer": "ipython3",
   "version": "3.8.17"
  },
  "orig_nbformat": 4
 },
 "nbformat": 4,
 "nbformat_minor": 2
}
